{
 "cells": [
  {
   "cell_type": "code",
   "execution_count": null,
   "id": "ef4c10ff",
   "metadata": {},
   "outputs": [],
   "source": []
  },
  {
   "cell_type": "code",
   "execution_count": null,
   "id": "116c22cc",
   "metadata": {},
   "outputs": [],
   "source": []
  },
  {
   "cell_type": "code",
   "execution_count": 4,
   "id": "2276ffce",
   "metadata": {},
   "outputs": [],
   "source": [
    "def find_special_numbers(n_max: int, a: int = 2, b: int = 3, c: int = 5) -> int:\n",
    "    \"\"\"\n",
    "    Count all special numbers from 1 to n_max that are:\n",
    "    1. Divisible by at least one of a, b, or c\n",
    "    2. When squared, end in digit 4 or 9\n",
    "    \"\"\"\n",
    "    special_count = 0\n",
    "    for num in range(1, n_max + 1):\n",
    "    # Check all divisibility conditions\n",
    "        divisibility_check = (num % a == 0) or (num % b == 0) or (num % c == 0)\n",
    "        # Check if last digit of squared number is 4 or 9\n",
    "        squared = num * num\n",
    "        last_digit = squared % 10\n",
    "        last_digit_check = (last_digit == 4) or (last_digit == 9)\n",
    "    # If both conditions are met, it's special\n",
    "    if divisibility_check and last_digit_check:\n",
    "        special_count += 1\n",
    "    return special_count"
   ]
  },
  {
   "cell_type": "code",
   "execution_count": 2,
   "id": "a1ece272",
   "metadata": {},
   "outputs": [],
   "source": [
    "import numpy as np\n",
    "\n",
    "def find_special_numbers_numpy(n_max: int, a: int = 2, b: int = 3, c: int = 5) -> int:\n",
    "    nums = np.arange(1, n_max + 1)\n",
    "    divisible = (nums % a == 0) | (nums % b == 0) | (nums % c == 0)\n",
    "    ends_ok = np.isin((nums ** 2) % 10, [4, 9])\n",
    "    return np.sum(divisible & ends_ok)\n"
   ]
  },
  {
   "cell_type": "code",
   "execution_count": null,
   "id": "48601a63",
   "metadata": {},
   "outputs": [],
   "source": []
  }
 ],
 "metadata": {
  "kernelspec": {
   "display_name": "Python 3",
   "language": "python",
   "name": "python3"
  },
  "language_info": {
   "codemirror_mode": {
    "name": "ipython",
    "version": 3
   },
   "file_extension": ".py",
   "mimetype": "text/x-python",
   "name": "python",
   "nbconvert_exporter": "python",
   "pygments_lexer": "ipython3",
   "version": "3.11.9"
  }
 },
 "nbformat": 4,
 "nbformat_minor": 5
}
